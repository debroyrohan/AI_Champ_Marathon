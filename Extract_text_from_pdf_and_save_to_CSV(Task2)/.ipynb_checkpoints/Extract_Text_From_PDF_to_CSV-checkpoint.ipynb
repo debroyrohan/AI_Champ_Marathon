{
 "cells": [
  {
   "cell_type": "code",
   "execution_count": null,
   "metadata": {},
   "outputs": [],
   "source": [
    "pip install pdfplumber"
   ]
  },
  {
   "cell_type": "code",
   "execution_count": 1,
   "metadata": {},
   "outputs": [],
   "source": [
    "import pdfplumber\n",
    "import pandas as pd"
   ]
  },
  {
   "cell_type": "code",
   "execution_count": 2,
   "metadata": {},
   "outputs": [],
   "source": [
    "file_path = \"E:\\AI_Champ_Challenge\\Linkdin_Connection_pdfs(Task1)\"\n",
    "file_name = \"Profile\""
   ]
  },
  {
   "cell_type": "code",
   "execution_count": 4,
   "metadata": {},
   "outputs": [],
   "source": [
    "text_line = []\n",
    "for num_files in range(1, 51):\n",
    "    data_per_profile = \"\"\n",
    "    with pdfplumber.open(file_path + '\\\\' + file_name + str(num_files) + '.pdf') as pdf:\n",
    "        pages = pdf.pages\n",
    "        for page in pages:\n",
    "            text = page.extract_text()\n",
    "            for line in text.split('\\n'):\n",
    "                data_per_profile = data_per_profile + line + \" \"\n",
    "    text_line.append(data_per_profile)"
   ]
  },
  {
   "cell_type": "code",
   "execution_count": 5,
   "metadata": {},
   "outputs": [
    {
     "data": {
      "text/html": [
       "<div>\n",
       "<style scoped>\n",
       "    .dataframe tbody tr th:only-of-type {\n",
       "        vertical-align: middle;\n",
       "    }\n",
       "\n",
       "    .dataframe tbody tr th {\n",
       "        vertical-align: top;\n",
       "    }\n",
       "\n",
       "    .dataframe thead th {\n",
       "        text-align: right;\n",
       "    }\n",
       "</style>\n",
       "<table border=\"1\" class=\"dataframe\">\n",
       "  <thead>\n",
       "    <tr style=\"text-align: right;\">\n",
       "      <th></th>\n",
       "      <th>Text_Data</th>\n",
       "    </tr>\n",
       "  </thead>\n",
       "  <tbody>\n",
       "    <tr>\n",
       "      <th>profile1</th>\n",
       "      <td>Contact abhay rai abhayrairocks778@gmail.c...</td>\n",
       "    </tr>\n",
       "    <tr>\n",
       "      <th>profile2</th>\n",
       "      <td>Contact TNP Consultant tnp.consultant@neri...</td>\n",
       "    </tr>\n",
       "    <tr>\n",
       "      <th>profile3</th>\n",
       "      <td>Contact Mitali Sodhi www.linkedin.com/in/m...</td>\n",
       "    </tr>\n",
       "    <tr>\n",
       "      <th>profile4</th>\n",
       "      <td>Contact Srivatsan Srinivasan www.linkedin....</td>\n",
       "    </tr>\n",
       "    <tr>\n",
       "      <th>profile5</th>\n",
       "      <td>Contact Tanvi Shinde Band itstannus@gmail....</td>\n",
       "    </tr>\n",
       "  </tbody>\n",
       "</table>\n",
       "</div>"
      ],
      "text/plain": [
       "                                                  Text_Data\n",
       "profile1      Contact abhay rai abhayrairocks778@gmail.c...\n",
       "profile2      Contact TNP Consultant tnp.consultant@neri...\n",
       "profile3      Contact Mitali Sodhi www.linkedin.com/in/m...\n",
       "profile4      Contact Srivatsan Srinivasan www.linkedin....\n",
       "profile5      Contact Tanvi Shinde Band itstannus@gmail...."
      ]
     },
     "execution_count": 5,
     "metadata": {},
     "output_type": "execute_result"
    }
   ],
   "source": [
    "df = pd.DataFrame(text_line, columns = [\"Text_Data\"], index = [\"profile\" + str(i) for i in range(1, 51)])\n",
    "df.head()"
   ]
  },
  {
   "cell_type": "code",
   "execution_count": 6,
   "metadata": {},
   "outputs": [
    {
     "name": "stdout",
     "output_type": "stream",
     "text": [
      "<class 'pandas.core.frame.DataFrame'>\n",
      "Index: 50 entries, profile1 to profile50\n",
      "Data columns (total 1 columns):\n",
      " #   Column     Non-Null Count  Dtype \n",
      "---  ------     --------------  ----- \n",
      " 0   Text_Data  50 non-null     object\n",
      "dtypes: object(1)\n",
      "memory usage: 800.0+ bytes\n"
     ]
    }
   ],
   "source": [
    "df.info()"
   ]
  },
  {
   "cell_type": "code",
   "execution_count": 7,
   "metadata": {},
   "outputs": [],
   "source": [
    "df.to_csv('profile_data.csv', index=True, header = True)"
   ]
  },
  {
   "cell_type": "code",
   "execution_count": null,
   "metadata": {},
   "outputs": [],
   "source": []
  }
 ],
 "metadata": {
  "kernelspec": {
   "display_name": "Python 3",
   "language": "python",
   "name": "python3"
  },
  "language_info": {
   "codemirror_mode": {
    "name": "ipython",
    "version": 3
   },
   "file_extension": ".py",
   "mimetype": "text/x-python",
   "name": "python",
   "nbconvert_exporter": "python",
   "pygments_lexer": "ipython3",
   "version": "3.8.3"
  }
 },
 "nbformat": 4,
 "nbformat_minor": 4
}
