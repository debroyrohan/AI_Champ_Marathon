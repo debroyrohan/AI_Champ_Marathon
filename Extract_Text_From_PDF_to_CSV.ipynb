{
 "cells": [
  {
   "cell_type": "code",
   "execution_count": 2,
   "metadata": {},
   "outputs": [
    {
     "name": "stdout",
     "output_type": "stream",
     "text": [
      "Collecting pdfplumberNote: you may need to restart the kernel to use updated packages.\n",
      "  Downloading pdfplumber-0.5.23.tar.gz (38 kB)\n",
      "Collecting pdfminer.six==20200517\n",
      "  Downloading pdfminer.six-20200517-py3-none-any.whl (5.6 MB)\n",
      "Requirement already satisfied: Pillow>=7.0.0 in c:\\users\\rohan\\anaconda3\\lib\\site-packages (from pdfplumber) (7.2.0)\n",
      "\n",
      "Collecting Wand\n",
      "  Downloading Wand-0.6.2-py2.py3-none-any.whl (130 kB)\n",
      "Requirement already satisfied: sortedcontainers in c:\\users\\rohan\\anaconda3\\lib\\site-packages (from pdfminer.six==20200517->pdfplumber) (2.2.2)\n",
      "Collecting pycryptodome\n",
      "  Downloading pycryptodome-3.9.8-cp38-cp38-win_amd64.whl (14.1 MB)\n",
      "Requirement already satisfied: chardet; python_version > \"3.0\" in c:\\users\\rohan\\anaconda3\\lib\\site-packages (from pdfminer.six==20200517->pdfplumber) (3.0.4)\n",
      "Building wheels for collected packages: pdfplumber\n",
      "  Building wheel for pdfplumber (setup.py): started\n",
      "  Building wheel for pdfplumber (setup.py): finished with status 'done'\n",
      "  Created wheel for pdfplumber: filename=pdfplumber-0.5.23-py3-none-any.whl size=29197 sha256=8ebc8d699cccb324ad5ef9210c2768292d0f0036c778545d116523f6bff54206\n",
      "  Stored in directory: c:\\users\\rohan\\appdata\\local\\pip\\cache\\wheels\\49\\f6\\fc\\da4d4f03b136a8be2584667f888c6f7d4cd0d4cffa11ca7988\n",
      "Successfully built pdfplumber\n",
      "Installing collected packages: pycryptodome, pdfminer.six, Wand, pdfplumber\n",
      "Successfully installed Wand-0.6.2 pdfminer.six-20200517 pdfplumber-0.5.23 pycryptodome-3.9.8\n"
     ]
    }
   ],
   "source": [
    "pip install pdfplumber"
   ]
  },
  {
   "cell_type": "code",
   "execution_count": 6,
   "metadata": {},
   "outputs": [],
   "source": [
    "import pdfplumber\n",
    "import pandas as pd\n",
    "from collections import namedtuple"
   ]
  },
  {
   "cell_type": "code",
   "execution_count": 8,
   "metadata": {},
   "outputs": [],
   "source": [
    "text_data = namedtuple('text_data', 'Introduction' 'Contact' 'Summary' 'Top_Skills' 'Certifications' 'Experience' 'Education')"
   ]
  },
  {
   "cell_type": "code",
   "execution_count": 9,
   "metadata": {},
   "outputs": [],
   "source": [
    "file_path = \"E:\\AI_Champ_Challenge\\Linkdin_Connection_pdfs(Task1)\"\n",
    "file_name = \"Profile1.pdf\""
   ]
  },
  {
   "cell_type": "code",
   "execution_count": 10,
   "metadata": {},
   "outputs": [
    {
     "name": "stdout",
     "output_type": "stream",
     "text": [
      "   \n",
      "Contact abhay rai\n",
      "abhayrairocks778@gmail.com\n",
      "Student at Techno India Salt Lake Kolkata\n",
      "www.linkedin.com/in/abhay-rai-\n",
      "Dhanbad\n",
      "b60125185 (LinkedIn)\n",
      "Summary\n",
      "Top Skills\n",
      "I am Abhay Rai. Currently I am a student and pursuing BTech in\n",
      "DATA STRUCTURES\n",
      "Python (Programming Language) ECE. I am quite interested in coding and currently I have been\n",
      "C++ learning Python and C++,C. I have a knack for Web Development\n",
      "and Design and I want to further extend my knowledge in the field\n",
      "Certifications of Machine Learning and AI. I love competitive coding as well. I\n",
      "Programming in C++ Certification am very enthusiastic to learn new things and am a so called quick\n",
      "study. And I hope that at the end of the my Btech course I would\n",
      "be capable enough to pursue higher studies and broaden my\n",
      "knowledge in my respective field. \n",
      "Education\n",
      "Techno India Salt Lake Kolkata\n",
      "b.tech, ECE · (2018 - 2022)\n",
      "  Page 1 of 1\n"
     ]
    }
   ],
   "source": [
    "text_line = []\n",
    "with pdfplumber.open(file_path + '\\\\' + file_name) as pdf:\n",
    "    pages = pdf.pages\n",
    "    for page in pages:\n",
    "        text = page.extract_text()\n",
    "        for line in text.split('\\n'):\n",
    "            print(line)"
   ]
  },
  {
   "cell_type": "code",
   "execution_count": null,
   "metadata": {},
   "outputs": [],
   "source": []
  }
 ],
 "metadata": {
  "kernelspec": {
   "display_name": "Python 3",
   "language": "python",
   "name": "python3"
  },
  "language_info": {
   "codemirror_mode": {
    "name": "ipython",
    "version": 3
   },
   "file_extension": ".py",
   "mimetype": "text/x-python",
   "name": "python",
   "nbconvert_exporter": "python",
   "pygments_lexer": "ipython3",
   "version": "3.8.3"
  }
 },
 "nbformat": 4,
 "nbformat_minor": 4
}
