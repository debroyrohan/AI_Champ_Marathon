{
 "cells": [
  {
   "cell_type": "code",
   "execution_count": 1,
   "metadata": {},
   "outputs": [
    {
     "name": "stderr",
     "output_type": "stream",
     "text": [
      "[nltk_data] Downloading package stopwords to\n",
      "[nltk_data]     C:\\Users\\Rohan\\AppData\\Roaming\\nltk_data...\n",
      "[nltk_data]   Package stopwords is already up-to-date!\n"
     ]
    }
   ],
   "source": [
    "import pandas as pd\n",
    "\n",
    "import nltk\n",
    "\n",
    "nltk.download('stopwords')\n",
    "\n",
    "#nltk.download('RegexpTokenizer')\n",
    "\n",
    "from nltk.corpus import stopwords\n",
    "\n",
    "from nltk.tokenize import RegexpTokenizer\n",
    "\n",
    "import string"
   ]
  },
  {
   "cell_type": "code",
   "execution_count": 2,
   "metadata": {},
   "outputs": [],
   "source": [
    "file_path = \"E:\\AI_Champ_Challenge\\Extract_text_from_pdf_and_save_to_CSV(Task2)\"\n",
    "file_name = \"profile_data.csv\""
   ]
  },
  {
   "cell_type": "code",
   "execution_count": 3,
   "metadata": {},
   "outputs": [
    {
     "data": {
      "text/html": [
       "<div>\n",
       "<style scoped>\n",
       "    .dataframe tbody tr th:only-of-type {\n",
       "        vertical-align: middle;\n",
       "    }\n",
       "\n",
       "    .dataframe tbody tr th {\n",
       "        vertical-align: top;\n",
       "    }\n",
       "\n",
       "    .dataframe thead th {\n",
       "        text-align: right;\n",
       "    }\n",
       "</style>\n",
       "<table border=\"1\" class=\"dataframe\">\n",
       "  <thead>\n",
       "    <tr style=\"text-align: right;\">\n",
       "      <th></th>\n",
       "      <th>Unnamed: 0</th>\n",
       "      <th>Text_Data</th>\n",
       "    </tr>\n",
       "  </thead>\n",
       "  <tbody>\n",
       "    <tr>\n",
       "      <th>0</th>\n",
       "      <td>profile1</td>\n",
       "      <td>Contact abhay rai abhayrairocks778@gmail.c...</td>\n",
       "    </tr>\n",
       "    <tr>\n",
       "      <th>1</th>\n",
       "      <td>profile2</td>\n",
       "      <td>Contact TNP Consultant tnp.consultant@neri...</td>\n",
       "    </tr>\n",
       "    <tr>\n",
       "      <th>2</th>\n",
       "      <td>profile3</td>\n",
       "      <td>Contact Mitali Sodhi www.linkedin.com/in/m...</td>\n",
       "    </tr>\n",
       "    <tr>\n",
       "      <th>3</th>\n",
       "      <td>profile4</td>\n",
       "      <td>Contact Srivatsan Srinivasan www.linkedin....</td>\n",
       "    </tr>\n",
       "    <tr>\n",
       "      <th>4</th>\n",
       "      <td>profile5</td>\n",
       "      <td>Contact Tanvi Shinde Band itstannus@gmail....</td>\n",
       "    </tr>\n",
       "  </tbody>\n",
       "</table>\n",
       "</div>"
      ],
      "text/plain": [
       "  Unnamed: 0                                          Text_Data\n",
       "0   profile1      Contact abhay rai abhayrairocks778@gmail.c...\n",
       "1   profile2      Contact TNP Consultant tnp.consultant@neri...\n",
       "2   profile3      Contact Mitali Sodhi www.linkedin.com/in/m...\n",
       "3   profile4      Contact Srivatsan Srinivasan www.linkedin....\n",
       "4   profile5      Contact Tanvi Shinde Band itstannus@gmail...."
      ]
     },
     "execution_count": 3,
     "metadata": {},
     "output_type": "execute_result"
    }
   ],
   "source": [
    "data = pd.read_csv(file_path + \"\\\\\" + file_name)\n",
    "data.head()"
   ]
  },
  {
   "cell_type": "code",
   "execution_count": 4,
   "metadata": {},
   "outputs": [],
   "source": [
    "def remove_punctuation(text_data):\n",
    "    data_with_no_punct = \"\".join([data for data in text_data if data not in string.punctuation])\n",
    "    return data_with_no_punct"
   ]
  },
  {
   "cell_type": "code",
   "execution_count": 5,
   "metadata": {},
   "outputs": [
    {
     "data": {
      "text/plain": [
       "0        Contact abhay rai abhayrairocks778gmailcom...\n",
       "1        Contact TNP Consultant tnpconsultantnerist...\n",
       "2        Contact Mitali Sodhi wwwlinkedincominmital...\n",
       "3        Contact Srivatsan Srinivasan wwwlinkedinco...\n",
       "4        Contact Tanvi Shinde Band itstannusgmailco...\n",
       "Name: Text_Data, dtype: object"
      ]
     },
     "execution_count": 5,
     "metadata": {},
     "output_type": "execute_result"
    }
   ],
   "source": [
    "data[\"Text_Data\"] = data[\"Text_Data\"].apply(lambda text_data : remove_punctuation(text_data))\n",
    "data[\"Text_Data\"].head()"
   ]
  },
  {
   "cell_type": "code",
   "execution_count": 6,
   "metadata": {},
   "outputs": [],
   "source": [
    "tokenizer = RegexpTokenizer(r'\\w+|\\$[\\d\\.]+|\\S+')"
   ]
  },
  {
   "cell_type": "code",
   "execution_count": 7,
   "metadata": {},
   "outputs": [
    {
     "data": {
      "text/plain": [
       "0    [Contact, abhay, rai, abhayrairocks778gmailcom...\n",
       "1    [Contact, TNP, Consultant, tnpconsultantnerist...\n",
       "2    [Contact, Mitali, Sodhi, wwwlinkedincominmital...\n",
       "3    [Contact, Srivatsan, Srinivasan, wwwlinkedinco...\n",
       "4    [Contact, Tanvi, Shinde, Band, itstannusgmailc...\n",
       "Name: Text_Data, dtype: object"
      ]
     },
     "execution_count": 7,
     "metadata": {},
     "output_type": "execute_result"
    }
   ],
   "source": [
    "data[\"Text_Data\"] = data[\"Text_Data\"].apply(lambda text_data : tokenizer.tokenize(text_data))\n",
    "data[\"Text_Data\"].head()"
   ]
  },
  {
   "cell_type": "code",
   "execution_count": 8,
   "metadata": {},
   "outputs": [],
   "source": [
    "def remove_stopwords(text_data):\n",
    "    words = [word for word in text_data if word not in stopwords.words('english')]\n",
    "    return words"
   ]
  },
  {
   "cell_type": "code",
   "execution_count": 9,
   "metadata": {},
   "outputs": [
    {
     "data": {
      "text/plain": [
       "0    [Contact, abhay, rai, abhayrairocks778gmailcom...\n",
       "1    [Contact, TNP, Consultant, tnpconsultantnerist...\n",
       "2    [Contact, Mitali, Sodhi, wwwlinkedincominmital...\n",
       "3    [Contact, Srivatsan, Srinivasan, wwwlinkedinco...\n",
       "4    [Contact, Tanvi, Shinde, Band, itstannusgmailc...\n",
       "Name: Text_Data, dtype: object"
      ]
     },
     "execution_count": 9,
     "metadata": {},
     "output_type": "execute_result"
    }
   ],
   "source": [
    "data[\"Text_Data\"] = data[\"Text_Data\"].apply(lambda text_data : remove_stopwords(text_data))\n",
    "data[\"Text_Data\"].head()"
   ]
  },
  {
   "cell_type": "code",
   "execution_count": null,
   "metadata": {},
   "outputs": [],
   "source": []
  }
 ],
 "metadata": {
  "kernelspec": {
   "display_name": "Python 3",
   "language": "python",
   "name": "python3"
  },
  "language_info": {
   "codemirror_mode": {
    "name": "ipython",
    "version": 3
   },
   "file_extension": ".py",
   "mimetype": "text/x-python",
   "name": "python",
   "nbconvert_exporter": "python",
   "pygments_lexer": "ipython3",
   "version": "3.8.3"
  }
 },
 "nbformat": 4,
 "nbformat_minor": 4
}
